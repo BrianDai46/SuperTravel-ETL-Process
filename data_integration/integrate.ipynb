{
 "cells": [
  {
   "cell_type": "code",
   "execution_count": 2,
   "metadata": {},
   "outputs": [],
   "source": [
    "import pandas as pd\n",
    "import numpy as np"
   ]
  },
  {
   "cell_type": "markdown",
   "metadata": {},
   "source": [
    "Car data integrate"
   ]
  },
  {
   "cell_type": "code",
   "execution_count": 69,
   "metadata": {},
   "outputs": [],
   "source": [
    "travel = pd.read_csv(\"./data/df_travel.csv\")\n",
    "car = pd.read_csv(\"./data/df_car.csv\")"
   ]
  },
  {
   "cell_type": "code",
   "execution_count": 13,
   "metadata": {},
   "outputs": [
    {
     "data": {
      "text/plain": [
       "Transportation type\n",
       "Car      23\n",
       "Ferry     1\n",
       "Plane    75\n",
       "Train    37\n",
       "dtype: int64"
      ]
     },
     "execution_count": 13,
     "metadata": {},
     "output_type": "execute_result"
    }
   ],
   "source": [
    "travel.groupby(\"Transportation type\").size()"
   ]
  },
  {
   "cell_type": "code",
   "execution_count": 4,
   "metadata": {},
   "outputs": [],
   "source": [
    "def transportationSplit(trans):\n",
    "    if trans == \"Car\" or trans == \"Car rental\" or trans == \"Bus\" or trans == \"Subway\":\n",
    "        return \"Car\"\n",
    "    elif trans == \"Plane\" or trans == \"Airplane\" or trans == \"Flight\":\n",
    "        return \"Plane\"\n",
    "    else:\n",
    "        return trans"
   ]
  },
  {
   "cell_type": "code",
   "execution_count": 70,
   "metadata": {},
   "outputs": [],
   "source": [
    "travel[\"Transportation type\"] = travel[\"Transportation type\"].apply(transportationSplit)"
   ]
  },
  {
   "cell_type": "code",
   "execution_count": null,
   "metadata": {},
   "outputs": [],
   "source": [
    "car_ids = car['car_id'].tolist()\n",
    "\n",
    "# Define a function that returns a random car_id if Transportation type is 'Car'\n",
    "def get_random_car_id(transport_type):\n",
    "    if transport_type == 'Car':\n",
    "        return int(np.random.choice(car_ids))\n",
    "    else:\n",
    "        return None\n",
    "\n",
    "# Apply this function to the 'Transportation type' column and create a new 'car_id' column\n",
    "travel['car_id'] = travel['Transportation type'].apply(get_random_car_id).astype('Int64')\n",
    "#sum(travel.car_id.isna())\n",
    "travel[~travel[\"car_id\"].isnull()]"
   ]
  },
  {
   "cell_type": "markdown",
   "metadata": {},
   "source": [
    "Flight Integration"
   ]
  },
  {
   "cell_type": "code",
   "execution_count": 72,
   "metadata": {},
   "outputs": [],
   "source": [
    "flight = pd.read_csv(\"./data/df_flight.csv\")"
   ]
  },
  {
   "cell_type": "code",
   "execution_count": 21,
   "metadata": {},
   "outputs": [
    {
     "data": {
      "text/plain": [
       "Index(['Aus', 'Australia', 'Brazil', 'Cambodia', 'Cameroon', 'Canada',\n",
       "       'France', 'Germany', 'Greece', 'Hawaii', 'Indonesia', 'Italy', 'Japan',\n",
       "       'Mexico', 'Morocco', 'Netherlands', 'South Africa', 'Spain', 'Thai',\n",
       "       'Thailand', 'UK', 'USA', 'United Arab Emirates'],\n",
       "      dtype='object', name='Destination_Country')"
      ]
     },
     "execution_count": 21,
     "metadata": {},
     "output_type": "execute_result"
    }
   ],
   "source": [
    "travel[travel[\"Transportation type\"] == \"Plane\"].groupby(\"Destination_Country\").size().index"
   ]
  },
  {
   "cell_type": "code",
   "execution_count": 22,
   "metadata": {},
   "outputs": [
    {
     "data": {
      "text/plain": [
       "Index(['Asia', 'Australia / Oceania', 'Canada', 'Central America', 'Europe',\n",
       "       'Mexico', 'Middle East', 'South America', 'US'],\n",
       "      dtype='object', name='GEO Region')"
      ]
     },
     "execution_count": 22,
     "metadata": {},
     "output_type": "execute_result"
    }
   ],
   "source": [
    "flight.groupby(\"GEO Region\").size().index"
   ]
  },
  {
   "cell_type": "code",
   "execution_count": 73,
   "metadata": {},
   "outputs": [],
   "source": [
    "def get_geo_region_and_flight_id(destination_country):\n",
    "    country_to_region = {\n",
    "        'Aus': 'Australia / Oceania',\n",
    "        'Australia': 'Australia / Oceania',\n",
    "        'Brazil': 'South America',\n",
    "        'Cambodia': 'Asia',\n",
    "        'Cameroon': 'Africa',  # Africa is not in geo regions list.\n",
    "        'Canada': 'Canada',\n",
    "        'France': 'Europe',\n",
    "        'Germany': 'Europe',\n",
    "        'Greece': 'Europe',\n",
    "        'Hawaii': 'US', \n",
    "        'Indonesia': 'Asia',\n",
    "        'Italy': 'Europe',\n",
    "        'Japan': 'Asia',\n",
    "        'Mexico': 'Mexico',\n",
    "        'Morocco': 'Middle East',  \n",
    "        'Netherlands': 'Europe',\n",
    "        'South Africa': 'Africa',  # Africa is not in geo regions list.\n",
    "        'Spain': 'Europe',\n",
    "        'Thai': 'Asia', \n",
    "        'Thailand': 'Asia',\n",
    "        'UK': 'Europe',\n",
    "        'USA': 'US',\n",
    "        'United Arab Emirates': 'Middle East'\n",
    "    }\n",
    "    \n",
    "    region = country_to_region.get(destination_country, 'Unknown')\n",
    "    if region == 'Unknown':\n",
    "        return None\n",
    "    region_flights = flight[flight['GEO Region'] == region]\n",
    "    if not region_flights.empty:\n",
    "        return np.random.choice(region_flights['flight_id'])\n",
    "    else:\n",
    "        return None\n"
   ]
  },
  {
   "cell_type": "code",
   "execution_count": 74,
   "metadata": {},
   "outputs": [],
   "source": [
    "travel[\"flight_id\"] = travel[travel[\"Transportation type\"] == \"Plane\"][\"Destination_Country\"].apply(get_geo_region_and_flight_id).astype('Int64')"
   ]
  },
  {
   "cell_type": "code",
   "execution_count": null,
   "metadata": {},
   "outputs": [],
   "source": [
    "travel[(travel[\"Transportation type\"] == \"Plane\") & (travel[\"flight_id\"].isna())]"
   ]
  },
  {
   "cell_type": "markdown",
   "metadata": {},
   "source": [
    "Airbnb & Hotel Integrate"
   ]
  },
  {
   "cell_type": "code",
   "execution_count": 91,
   "metadata": {},
   "outputs": [],
   "source": [
    "airbnb = pd.read_csv(\"./data/df_airbnb.csv\")\n",
    "hotel = pd.read_csv(\"./data/df_hotel.csv\")"
   ]
  },
  {
   "cell_type": "code",
   "execution_count": 130,
   "metadata": {},
   "outputs": [],
   "source": [
    "def accommodationSplit(type):\n",
    "    if type == \"Airbnb\" or type == \"Vacation rental\" or type == \"Guesthouse\" or type == \"Villa\" or type == \"Riad\":\n",
    "        return \"Airbnb\"\n",
    "    elif type == \"Hotel\" or type == \"Hostel\" or type == \"Resort\":\n",
    "        return \"Hotel\""
   ]
  },
  {
   "cell_type": "code",
   "execution_count": 131,
   "metadata": {},
   "outputs": [],
   "source": [
    "travel[\"Accommodation type\"] = travel[\"Accommodation type\"].apply(accommodationSplit)"
   ]
  },
  {
   "cell_type": "code",
   "execution_count": 133,
   "metadata": {},
   "outputs": [],
   "source": [
    "def get_random_hotel_id(destination_city):\n",
    "    if not isinstance(destination_city, str):\n",
    "        return None\n",
    "    matching_hotels = hotel[hotel['city'] == destination_city]\n",
    "    if not matching_hotels.empty:\n",
    "        return np.random.choice(matching_hotels['hotel_id'].values)\n",
    "    else:\n",
    "        return None\n"
   ]
  },
  {
   "cell_type": "code",
   "execution_count": 134,
   "metadata": {},
   "outputs": [],
   "source": [
    "travel['hotel_id'] = travel.apply(\n",
    "    lambda row: get_random_hotel_id(row['Destination_City']) if row[\"Accommodation type\"] == \"Hotel\" else None,\n",
    "    axis=1\n",
    ").astype(\"Int64\")"
   ]
  },
  {
   "cell_type": "code",
   "execution_count": 148,
   "metadata": {},
   "outputs": [],
   "source": [
    "def get_random_airbnb_id(destination_city, destination_country):\n",
    "    if not isinstance(destination_city, str):\n",
    "        return None\n",
    "    matching_airbnbs = airbnb[airbnb['City/State'] == destination_city]\n",
    "    if not matching_airbnbs.empty:\n",
    "        return np.random.choice(matching_airbnbs['airbnb_id'].values)\n",
    "    else:\n",
    "        matching_airbnbs = airbnb[airbnb['Country'] == destination_country]\n",
    "        if not matching_airbnbs.empty:\n",
    "            return np.random.choice(matching_airbnbs['airbnb_id'].values)\n",
    "        else:\n",
    "            return None"
   ]
  },
  {
   "cell_type": "code",
   "execution_count": 149,
   "metadata": {},
   "outputs": [],
   "source": [
    "travel['airbnb_id'] = travel.apply(\n",
    "    lambda row: get_random_airbnb_id(row['Destination_City'], row[\"Destination_Country\"]) if row[\"Accommodation type\"] == \"Airbnb\" else None,\n",
    "    axis=1\n",
    ").astype(\"Int64\")"
   ]
  },
  {
   "cell_type": "markdown",
   "metadata": {},
   "source": [
    "Travel Cleaning"
   ]
  },
  {
   "cell_type": "code",
   "execution_count": 3,
   "metadata": {},
   "outputs": [],
   "source": [
    "def numberCleaning(num):\n",
    "    if isinstance(num, str):\n",
    "        num = num.replace(',', '')\n",
    "        num = num.replace(' ', '')\n",
    "        num = num.replace('USD', '')\n",
    "    return num"
   ]
  },
  {
   "cell_type": "code",
   "execution_count": 85,
   "metadata": {},
   "outputs": [],
   "source": [
    "travel[\"Accommodation cost\"] = travel[\"Accommodation cost\"].apply(numberCleaning)\n",
    "travel[\"Transportation cost\"] = travel[\"Transportation cost\"].apply(numberCleaning)"
   ]
  },
  {
   "cell_type": "code",
   "execution_count": 150,
   "metadata": {},
   "outputs": [],
   "source": [
    "travel.to_csv(\"./data/df_integrated_travel.csv\", index=False)"
   ]
  },
  {
   "cell_type": "code",
   "execution_count": 8,
   "metadata": {},
   "outputs": [],
   "source": [
    "df_travel = pd.read_csv(\"./data/df_integrated_travel.csv\")\n",
    "df_travel_new = pd.read_csv(\"./data/df_travel_new.csv\")"
   ]
  },
  {
   "cell_type": "code",
   "execution_count": 9,
   "metadata": {},
   "outputs": [],
   "source": [
    "df_travel_new[\"Accommodation cost\"] = df_travel_new[\"Accommodation cost\"].apply(numberCleaning)\n",
    "df_travel_new[\"Transportation cost\"] = df_travel_new[\"Transportation cost\"].apply(numberCleaning)"
   ]
  },
  {
   "cell_type": "code",
   "execution_count": 5,
   "metadata": {},
   "outputs": [],
   "source": [
    "df_travel_new = pd.concat([df_travel_new, df_travel[['car_id', 'flight_id', 'hotel_id', 'airbnb_id']]], axis=1)\n",
    "df_travel_new['car_id'] = df_travel_new['car_id'].astype('Int64')\n",
    "df_travel_new['flight_id'] = df_travel_new['flight_id'].astype('Int64')\n",
    "df_travel_new['hotel_id'] = df_travel_new['hotel_id'].astype('Int64')\n",
    "df_travel_new['airbnb_id'] = df_travel_new['airbnb_id'].astype('Int64')\n"
   ]
  },
  {
   "cell_type": "code",
   "execution_count": 7,
   "metadata": {},
   "outputs": [],
   "source": [
    "df_travel_new.to_csv(\"./data/df_integrated_travel_new.csv\", index=False)"
   ]
  },
  {
   "cell_type": "code",
   "execution_count": 3,
   "metadata": {},
   "outputs": [],
   "source": [
    "df = pd.read_csv(\"./data/df_integrated_travel_new.csv\")"
   ]
  },
  {
   "cell_type": "code",
   "execution_count": 5,
   "metadata": {},
   "outputs": [],
   "source": [
    "df[\"Transportation type\"] = df[\"Transportation type\"].apply(transportationSplit)"
   ]
  },
  {
   "cell_type": "code",
   "execution_count": 7,
   "metadata": {},
   "outputs": [],
   "source": [
    "df['car_id'] = df['car_id'].astype('Int64')\n",
    "df['flight_id'] = df['flight_id'].astype('Int64')\n",
    "df['hotel_id'] = df['hotel_id'].astype('Int64')\n",
    "df['airbnb_id'] = df['airbnb_id'].astype('Int64')\n",
    "df['Transportation cost'] = df['Transportation cost'].astype('Int64')\n",
    "df.to_csv(\"./data/df_integrated_travel_new.csv\", index=False)"
   ]
  }
 ],
 "metadata": {
  "kernelspec": {
   "display_name": "Python 3",
   "language": "python",
   "name": "python3"
  },
  "language_info": {
   "codemirror_mode": {
    "name": "ipython",
    "version": 3
   },
   "file_extension": ".py",
   "mimetype": "text/x-python",
   "name": "python",
   "nbconvert_exporter": "python",
   "pygments_lexer": "ipython3",
   "version": "3.11.4"
  }
 },
 "nbformat": 4,
 "nbformat_minor": 2
}
