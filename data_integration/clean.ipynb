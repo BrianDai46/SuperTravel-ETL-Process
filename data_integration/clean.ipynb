{
 "cells": [
  {
   "cell_type": "code",
   "execution_count": 1,
   "metadata": {},
   "outputs": [],
   "source": [
    "import pandas as pd\n",
    "from country_list import countries_for_language\n",
    "import geonamescache"
   ]
  },
  {
   "cell_type": "code",
   "execution_count": 41,
   "metadata": {},
   "outputs": [],
   "source": [
    "df_hotel = pd.read_parquet(\"./raw/0000.parquet\")\n",
    "df_travel = pd.read_csv(\"./raw/Travel details dataset.csv\")\n",
    "df_travel = df_travel.dropna(how=\"all\")\n",
    "df_car = pd.read_csv(\"./raw/CarRentalData.csv\")\n",
    "df_flight = pd.read_csv(\"./raw/Air_Traffic_Passenger_Statistics.csv\")\n",
    "df_airbnb = pd.read_csv(\"./raw/airnb.csv\")"
   ]
  },
  {
   "cell_type": "markdown",
   "metadata": {},
   "source": [
    "hotel data manipulation"
   ]
  },
  {
   "cell_type": "code",
   "execution_count": 7,
   "metadata": {},
   "outputs": [],
   "source": [
    "split_data = df_hotel['city'].str.split(\", \")\n",
    "df_hotel['country'] = split_data.apply(lambda x: x[1] if len(x) > 1 else x[0])\n",
    "df_hotel['city'] = split_data.apply(lambda x: x[0] if len(x) > 1 else None)"
   ]
  },
  {
   "cell_type": "code",
   "execution_count": 8,
   "metadata": {},
   "outputs": [],
   "source": [
    "df_hotel.to_csv(\"./data/df_hotel.csv\")"
   ]
  },
  {
   "cell_type": "code",
   "execution_count": null,
   "metadata": {},
   "outputs": [],
   "source": [
    "res = []\n",
    "for h in df_hotel.city:\n",
    "    res.append(h.split(\", \"))\n",
    "res"
   ]
  },
  {
   "cell_type": "markdown",
   "metadata": {},
   "source": [
    "travel data manipulation"
   ]
  },
  {
   "cell_type": "code",
   "execution_count": 3,
   "metadata": {},
   "outputs": [],
   "source": [
    "def is_country(name):\n",
    "    # Check if name matches a country name\n",
    "    countries = dict(countries_for_language('en'))\n",
    "    return name in countries.values()\n",
    "\n",
    "def get_country_from_city(city_name):\n",
    "    gc = geonamescache.GeonamesCache()\n",
    "    cities = gc.get_cities_by_name(city_name)\n",
    "\n",
    "    # If city is found and the data is available\n",
    "    if cities and cities[0]:\n",
    "        city_data = cities[0]\n",
    "        city_key = list(city_data.keys())[0]\n",
    "        country_code = city_data[city_key]['countrycode']\n",
    "\n",
    "        # Check if country code is in the countries dataset\n",
    "        countries = gc.get_countries()\n",
    "        if country_code in countries:\n",
    "            return countries[country_code]['name']\n",
    "    return None"
   ]
  },
  {
   "cell_type": "code",
   "execution_count": 42,
   "metadata": {},
   "outputs": [
    {
     "name": "stderr",
     "output_type": "stream",
     "text": [
      "C:\\Users\\26871\\AppData\\Local\\Temp\\ipykernel_2436\\3406990357.py:16: FutureWarning: The default value of regex will change from True to False in a future version. In addition, single character regular expressions will *not* be treated as literal strings when regex=True.\n",
      "  df_travel['Accommodation cost'] = df_travel['Accommodation cost'].str.replace('$', '').replace(',', '')\n",
      "C:\\Users\\26871\\AppData\\Local\\Temp\\ipykernel_2436\\3406990357.py:17: FutureWarning: The default value of regex will change from True to False in a future version. In addition, single character regular expressions will *not* be treated as literal strings when regex=True.\n",
      "  df_travel['Transportation cost'] = df_travel['Transportation cost'].str.replace('$', '').replace(',', '')\n"
     ]
    }
   ],
   "source": [
    "def destinationDecomposition(destination):\n",
    "    city, country = None, None\n",
    "    if \",\" in destination:\n",
    "        city, country = destination.split(\",\")\n",
    "    else:\n",
    "        if is_country(destination):\n",
    "            country = destination\n",
    "        else:\n",
    "            city = destination\n",
    "            country = get_country_from_city(city)\n",
    "            if city == \"New York\":\n",
    "                country = \"USA\"\n",
    "    return city, country\n",
    "df_travel['Destination_City'], df_travel['Destination_Country'] = zip(*df_travel[\"Destination\"].apply(destinationDecomposition))\n",
    "df_travel['Destination_Country'] = df_travel['Destination_Country'].str.lstrip()\n",
    "df_travel['Accommodation cost'] = df_travel['Accommodation cost'].str.replace('$', '').replace(',', '')\n",
    "df_travel['Transportation cost'] = df_travel['Transportation cost'].str.replace('$', '').replace(',', '')"
   ]
  },
  {
   "cell_type": "code",
   "execution_count": 5,
   "metadata": {},
   "outputs": [
    {
     "data": {
      "text/html": [
       "<div>\n",
       "<style scoped>\n",
       "    .dataframe tbody tr th:only-of-type {\n",
       "        vertical-align: middle;\n",
       "    }\n",
       "\n",
       "    .dataframe tbody tr th {\n",
       "        vertical-align: top;\n",
       "    }\n",
       "\n",
       "    .dataframe thead th {\n",
       "        text-align: right;\n",
       "    }\n",
       "</style>\n",
       "<table border=\"1\" class=\"dataframe\">\n",
       "  <thead>\n",
       "    <tr style=\"text-align: right;\">\n",
       "      <th></th>\n",
       "      <th>Trip ID</th>\n",
       "      <th>Destination</th>\n",
       "      <th>Start date</th>\n",
       "      <th>End date</th>\n",
       "      <th>Duration (days)</th>\n",
       "      <th>Traveler name</th>\n",
       "      <th>Traveler age</th>\n",
       "      <th>Traveler gender</th>\n",
       "      <th>Traveler nationality</th>\n",
       "      <th>Accommodation type</th>\n",
       "      <th>Accommodation cost</th>\n",
       "      <th>Transportation type</th>\n",
       "      <th>Transportation cost</th>\n",
       "      <th>Destination_City</th>\n",
       "      <th>Destination_Country</th>\n",
       "    </tr>\n",
       "  </thead>\n",
       "  <tbody>\n",
       "    <tr>\n",
       "      <th>0</th>\n",
       "      <td>1</td>\n",
       "      <td>London, UK</td>\n",
       "      <td>5/1/2023</td>\n",
       "      <td>5/8/2023</td>\n",
       "      <td>7</td>\n",
       "      <td>John Smith</td>\n",
       "      <td>35</td>\n",
       "      <td>Male</td>\n",
       "      <td>American</td>\n",
       "      <td>Hotel</td>\n",
       "      <td>1200</td>\n",
       "      <td>Flight</td>\n",
       "      <td>600</td>\n",
       "      <td>London</td>\n",
       "      <td>UK</td>\n",
       "    </tr>\n",
       "    <tr>\n",
       "      <th>1</th>\n",
       "      <td>2</td>\n",
       "      <td>Phuket, Thailand</td>\n",
       "      <td>6/15/2023</td>\n",
       "      <td>6/20/2023</td>\n",
       "      <td>5</td>\n",
       "      <td>Jane Doe</td>\n",
       "      <td>28</td>\n",
       "      <td>Female</td>\n",
       "      <td>Canadian</td>\n",
       "      <td>Resort</td>\n",
       "      <td>800</td>\n",
       "      <td>Flight</td>\n",
       "      <td>500</td>\n",
       "      <td>Phuket</td>\n",
       "      <td>Thailand</td>\n",
       "    </tr>\n",
       "    <tr>\n",
       "      <th>2</th>\n",
       "      <td>3</td>\n",
       "      <td>Bali, Indonesia</td>\n",
       "      <td>7/1/2023</td>\n",
       "      <td>7/8/2023</td>\n",
       "      <td>7</td>\n",
       "      <td>David Lee</td>\n",
       "      <td>45</td>\n",
       "      <td>Male</td>\n",
       "      <td>Korean</td>\n",
       "      <td>Villa</td>\n",
       "      <td>1000</td>\n",
       "      <td>Flight</td>\n",
       "      <td>700</td>\n",
       "      <td>Bali</td>\n",
       "      <td>Indonesia</td>\n",
       "    </tr>\n",
       "    <tr>\n",
       "      <th>3</th>\n",
       "      <td>4</td>\n",
       "      <td>New York, USA</td>\n",
       "      <td>8/15/2023</td>\n",
       "      <td>8/29/2023</td>\n",
       "      <td>14</td>\n",
       "      <td>Sarah Johnson</td>\n",
       "      <td>29</td>\n",
       "      <td>Female</td>\n",
       "      <td>British</td>\n",
       "      <td>Hotel</td>\n",
       "      <td>2000</td>\n",
       "      <td>Flight</td>\n",
       "      <td>1000</td>\n",
       "      <td>New York</td>\n",
       "      <td>USA</td>\n",
       "    </tr>\n",
       "    <tr>\n",
       "      <th>4</th>\n",
       "      <td>5</td>\n",
       "      <td>Tokyo, Japan</td>\n",
       "      <td>9/10/2023</td>\n",
       "      <td>9/17/2023</td>\n",
       "      <td>7</td>\n",
       "      <td>Kim Nguyen</td>\n",
       "      <td>26</td>\n",
       "      <td>Female</td>\n",
       "      <td>Vietnamese</td>\n",
       "      <td>Airbnb</td>\n",
       "      <td>700</td>\n",
       "      <td>Train</td>\n",
       "      <td>200</td>\n",
       "      <td>Tokyo</td>\n",
       "      <td>Japan</td>\n",
       "    </tr>\n",
       "  </tbody>\n",
       "</table>\n",
       "</div>"
      ],
      "text/plain": [
       "   Trip ID       Destination Start date   End date  Duration (days)  \\\n",
       "0        1        London, UK   5/1/2023   5/8/2023                7   \n",
       "1        2  Phuket, Thailand  6/15/2023  6/20/2023                5   \n",
       "2        3   Bali, Indonesia   7/1/2023   7/8/2023                7   \n",
       "3        4     New York, USA  8/15/2023  8/29/2023               14   \n",
       "4        5      Tokyo, Japan  9/10/2023  9/17/2023                7   \n",
       "\n",
       "   Traveler name  Traveler age Traveler gender Traveler nationality  \\\n",
       "0     John Smith            35            Male             American   \n",
       "1       Jane Doe            28          Female             Canadian   \n",
       "2      David Lee            45            Male               Korean   \n",
       "3  Sarah Johnson            29          Female              British   \n",
       "4     Kim Nguyen            26          Female           Vietnamese   \n",
       "\n",
       "  Accommodation type Accommodation cost Transportation type  \\\n",
       "0              Hotel               1200              Flight   \n",
       "1             Resort                800              Flight   \n",
       "2              Villa               1000              Flight   \n",
       "3              Hotel               2000              Flight   \n",
       "4             Airbnb                700               Train   \n",
       "\n",
       "  Transportation cost Destination_City Destination_Country  \n",
       "0                 600           London                  UK  \n",
       "1                 500           Phuket            Thailand  \n",
       "2                 700             Bali           Indonesia  \n",
       "3                1000         New York                 USA  \n",
       "4                 200            Tokyo               Japan  "
      ]
     },
     "execution_count": 5,
     "metadata": {},
     "output_type": "execute_result"
    }
   ],
   "source": [
    "df_travel.head()"
   ]
  },
  {
   "cell_type": "code",
   "execution_count": 8,
   "metadata": {},
   "outputs": [],
   "source": [
    "def manipulate_data(df, column_name, old_value, new_value):\n",
    "    df.loc[df[column_name] == old_value, column_name] = new_value\n",
    "    return df"
   ]
  },
  {
   "cell_type": "code",
   "execution_count": 43,
   "metadata": {},
   "outputs": [],
   "source": [
    "# destination city uniformization\n",
    "df_travel = manipulate_data(df_travel, \"Destination_City\", \"New York\", \"New York City\")\n",
    "df_travel = manipulate_data(df_travel, \"Destination_City\", \"Honolulu\", \"Hawaii\")"
   ]
  },
  {
   "cell_type": "code",
   "execution_count": 44,
   "metadata": {},
   "outputs": [],
   "source": [
    "# destination country uniformization\n",
    "df_travel = manipulate_data(df_travel, \"Destination_Country\", \"United Kingdom\", \"UK\")\n",
    "df_travel = manipulate_data(df_travel, \"Destination_Country\", \"Aus\", \"Australia\")\n",
    "df_travel = manipulate_data(df_travel, \"Destination_Country\", \"AUS\", \"Australia\")\n",
    "df_travel = manipulate_data(df_travel, \"Destination_Country\", \"SA\", \"South Africa\")\n",
    "df_travel = manipulate_data(df_travel, \"Destination_Country\", \"Hawaii\", \"USA\")\n",
    "df_travel = manipulate_data(df_travel, \"Destination_Country\", \"Thai\", \"Thailand\")"
   ]
  },
  {
   "cell_type": "code",
   "execution_count": 48,
   "metadata": {},
   "outputs": [],
   "source": [
    "# traveler nationality uniformization\n",
    "df_travel = manipulate_data(df_travel, \"Traveler nationality\", \"UK\", \"British\")\n",
    "df_travel = manipulate_data(df_travel, \"Traveler nationality\", \"United Kingdom\", \"British\")\n",
    "df_travel = manipulate_data(df_travel, \"Traveler nationality\", \"USA\", \"American\")\n",
    "df_travel = manipulate_data(df_travel, \"Traveler nationality\", \"Canada\", \"Canadian\")\n",
    "df_travel = manipulate_data(df_travel, \"Traveler nationality\", \"Korean\", \"South Korean\")\n",
    "df_travel = manipulate_data(df_travel, \"Traveler nationality\", \"South Korea\", \"South Korean\")\n",
    "df_travel = manipulate_data(df_travel, \"Traveler nationality\", \"Australia\", \"Australian\")\n",
    "df_travel = manipulate_data(df_travel, \"Traveler nationality\", \"Netherlands\", \"Dutch\")\n",
    "df_travel = manipulate_data(df_travel, \"Traveler nationality\", \"Brazil\", \"Brazilian\")\n",
    "df_travel = manipulate_data(df_travel, \"Traveler nationality\", \"United Arab Emirates\", \"Emirati\")\n",
    "df_travel = manipulate_data(df_travel, \"Traveler nationality\", \"Mexico\", \"Mexican\")\n",
    "df_travel = manipulate_data(df_travel, \"Traveler nationality\", \"Japan\", \"Japanese\")\n",
    "df_travel = manipulate_data(df_travel, \"Traveler nationality\", \"China\", \"Chinese\")\n",
    "df_travel = manipulate_data(df_travel, \"Traveler nationality\", \"Spain\", \"Spanish\")\n",
    "df_travel = manipulate_data(df_travel, \"Traveler nationality\", \"Germany\", \"German\")\n",
    "df_travel = manipulate_data(df_travel, \"Traveler nationality\", \"Taiwan\", \"Taiwanese\")\n",
    "df_travel = manipulate_data(df_travel, \"Traveler nationality\", \"Italy\", \"Italian\")\n",
    "df_travel = manipulate_data(df_travel, \"Traveler nationality\", \"South Africa\", \"South African\")\n",
    "df_travel = manipulate_data(df_travel, \"Traveler nationality\", \"Hong Kong\", \"Chinese\")"
   ]
  },
  {
   "cell_type": "code",
   "execution_count": 49,
   "metadata": {},
   "outputs": [
    {
     "data": {
      "text/plain": [
       "array(['American', 'Canadian', 'South Korean', 'British', 'Vietnamese',\n",
       "       'Australian', 'Brazilian', 'Dutch', 'Emirati', 'Mexican',\n",
       "       'Spanish', 'Chinese', 'German', 'Moroccan', 'Scottish', 'Japanese',\n",
       "       'Italian', 'Indian', 'French', 'South African', 'Taiwanese',\n",
       "       'Indonesian', ' African', 'Singapore', 'Greece', 'Cambodia',\n",
       "       'New Zealander'], dtype=object)"
      ]
     },
     "execution_count": 49,
     "metadata": {},
     "output_type": "execute_result"
    }
   ],
   "source": [
    "df_travel[\"Traveler nationality\"].unique()"
   ]
  },
  {
   "cell_type": "code",
   "execution_count": 50,
   "metadata": {},
   "outputs": [],
   "source": [
    "df_travel = df_travel.drop('Destination', axis=1)\n",
    "df_travel.to_csv('./data/df_travel_new.csv', index=False)"
   ]
  },
  {
   "cell_type": "markdown",
   "metadata": {},
   "source": [
    "airbnb data manipulation"
   ]
  },
  {
   "cell_type": "code",
   "execution_count": 9,
   "metadata": {},
   "outputs": [],
   "source": [
    "split_data = list(map(lambda x: x.split(\", \"), df_airbnb['Title']))\n",
    "\n",
    "# Initialize empty lists for each column\n",
    "titles = []\n",
    "states_or_countries = []\n",
    "countries = []\n",
    "\n",
    "# Step 2: Iterate through the split_data\n",
    "for entry in split_data:\n",
    "    titles.append(entry[0])  # The first element is always the title\n",
    "    \n",
    "    if len(entry) == 1:\n",
    "        states_or_countries.append(None)\n",
    "        countries.append(None)\n",
    "    elif len(entry) == 2:\n",
    "        states_or_countries.append(None)\n",
    "        countries.append(entry[1])\n",
    "    elif len(entry) == 3:\n",
    "        states_or_countries.append(entry[1])\n",
    "        countries.append(entry[2])\n",
    "\n",
    "# Step 3: Add these lists as new columns to df_airbnb\n",
    "df_airbnb['Extracted Title'] = titles\n",
    "df_airbnb['City/State'] = states_or_countries\n",
    "df_airbnb['Country'] = countries\n"
   ]
  },
  {
   "cell_type": "code",
   "execution_count": 10,
   "metadata": {},
   "outputs": [],
   "source": [
    "df_airbnb = df_airbnb.drop([\"Title\", \"Date\"], axis=1)"
   ]
  },
  {
   "cell_type": "code",
   "execution_count": 11,
   "metadata": {},
   "outputs": [],
   "source": [
    "df_airbnb.to_csv(\"./data/df_airbnb.csv\")"
   ]
  },
  {
   "cell_type": "markdown",
   "metadata": {},
   "source": [
    "flight data manipulation"
   ]
  },
  {
   "cell_type": "code",
   "execution_count": 12,
   "metadata": {},
   "outputs": [],
   "source": [
    "df_flight = df_flight[['Operating Airline',\n",
    "       'Operating Airline IATA Code', 'Published Airline',\n",
    "       'Published Airline IATA Code', 'GEO Summary', 'GEO Region',\n",
    "       'Price Category Code', \"Terminal\", \"Boarding Area\"\n",
    "       ]]"
   ]
  },
  {
   "cell_type": "code",
   "execution_count": 13,
   "metadata": {},
   "outputs": [],
   "source": [
    "df_flight.drop_duplicates().to_csv(\"./data/df_flight.csv\")"
   ]
  },
  {
   "cell_type": "code",
   "execution_count": 59,
   "metadata": {},
   "outputs": [
    {
     "data": {
      "text/plain": [
       "{'Asia',\n",
       " 'Australia / Oceania',\n",
       " 'Canada',\n",
       " 'Central America',\n",
       " 'Europe',\n",
       " 'Mexico',\n",
       " 'Middle East',\n",
       " 'South America',\n",
       " 'US'}"
      ]
     },
     "execution_count": 59,
     "metadata": {},
     "output_type": "execute_result"
    }
   ],
   "source": [
    "set(df_flight['GEO Region'])"
   ]
  },
  {
   "cell_type": "markdown",
   "metadata": {},
   "source": [
    "car rental data manipulation"
   ]
  },
  {
   "cell_type": "code",
   "execution_count": 14,
   "metadata": {},
   "outputs": [],
   "source": [
    "df_car = df_car[['fuelType', 'rating', 'renterTripsTaken', 'reviewCount', \n",
    "                'owner.id','vehicle.make', 'vehicle.model',\n",
    "                'vehicle.type', 'vehicle.year']]"
   ]
  },
  {
   "cell_type": "code",
   "execution_count": 15,
   "metadata": {},
   "outputs": [],
   "source": [
    "df_car.to_csv(\"./data/df_car.csv\")"
   ]
  }
 ],
 "metadata": {
  "kernelspec": {
   "display_name": "Python 3",
   "language": "python",
   "name": "python3"
  },
  "language_info": {
   "codemirror_mode": {
    "name": "ipython",
    "version": 3
   },
   "file_extension": ".py",
   "mimetype": "text/x-python",
   "name": "python",
   "nbconvert_exporter": "python",
   "pygments_lexer": "ipython3",
   "version": "3.11.4"
  }
 },
 "nbformat": 4,
 "nbformat_minor": 2
}
